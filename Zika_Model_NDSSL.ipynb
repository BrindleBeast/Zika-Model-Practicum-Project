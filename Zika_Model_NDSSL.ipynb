{
 "cells": [
  {
   "cell_type": "code",
   "execution_count": 1,
   "metadata": {
    "collapsed": true
   },
   "outputs": [],
   "source": [
    "#Import the required python modules \n",
    "import numpy as np\n",
    "from pylab import *\n",
    "import scipy.integrate as spi\n",
    "import scipy.stats\n",
    "from scipy.optimize import fmin\n",
    "import seaborn as sb\n",
    "import pandas as pd\n",
    "%matplotlib inline\n"
   ]
  },
  {
   "cell_type": "markdown",
   "metadata": {},
   "source": [
    "Step 1:\n",
    "\n",
    "    *Create a function called 'eqs_model' that stores and runs the SEIR/SEI Zika model differential equations. \n",
    "\n",
    "   The full model is as follows: \n",
    "\n",
    "        dSh/dt = -βh*Sh*Im \n",
    "\n",
    "        dEh/dt = βh*Sh*Im - αh*Eh \n",
    "\n",
    "        dIh/dt = αh*Eh – γ*Ih  \n",
    "\n",
    "        dRh/dt = γ*Ih \n",
    "\n",
    "        dSm/dt = δ - βm*Sm*Ih - δ*Sm \n",
    "\n",
    "        dEm/dt = βm*Sm*Ih – (δ + αm)*Em  \n",
    "\n",
    "        dIm/dt = αm*Em - δ*Ιm \n",
    "\n",
    "Step 2:\n",
    "\n",
    "    * Create a parameters bin for beta, alpha, gamma, and delta, that can be easily used to optimize later with fmin. "
   ]
  },
  {
   "cell_type": "code",
   "execution_count": 2,
   "metadata": {
    "collapsed": false
   },
   "outputs": [],
   "source": [
    "#Solving the differential equations.\n",
    "\n",
    "def eqs_model(modelParams, t, *zikaParams):\n",
    "    \n",
    "    '''Defining SEIR/SEI System of Equations for Humans and Mosquitos'''\n",
    "    \n",
    "    beta_H, beta_M, alpha_H, alpha_M, gamma = zikaParams[1]\n",
    "    \n",
    "    # delta is fixed because mosquitoes live an average of 7 days\n",
    "    delta = 0.07 \n",
    "    \n",
    "    #Creating an array of equations\n",
    "    Y = np.zeros((7))\n",
    "    #S0 = -beta_H * Sh * Im\n",
    "    Y[0] = -beta_H*modelParams[0]*modelParams[6]\n",
    "    #E0 = beta_H* Sh * Im) - alpha_H * Se\n",
    "    Y[1] = beta_H*modelParams[0]*modelParams[6] - alpha_H*modelParams[1]\n",
    "    #I0 = alpha_H * Se - gamma * Si\n",
    "    Y[2] = alpha_H*modelParams[1] - gamma*modelParams[2]\n",
    "    #R0 = gamma * Si \n",
    "    Y[3] = gamma*modelParams[2]\n",
    "    \n",
    "    #S1 = delta - beta_M *(Sm)(Ih) - (delta)(beta_M)\n",
    "    Y[4] = delta - beta_M*modelParams[4]*modelParams[2] - delta*beta_M\n",
    "    #E1 = beta_M * Sm*Ih - (delta + alpha_M) * Ei\n",
    "    Y[5] = beta_M*modelParams[4]*modelParams[2] - (delta + alpha_M)*modelParams[5]\n",
    "    #I = (delta + alpha_M) * Ei\n",
    "    Y[6] = alpha_M*modelParams[5] - delta*modelParams[6]\n",
    "    \n",
    "    return Y\n"
   ]
  },
  {
   "cell_type": "markdown",
   "metadata": {},
   "source": [
    "Step 3:\n",
    "\n",
    "    * Create a function to store the results of the eqs_model function in a dataframe \n",
    "    * 'S/E/I/R', 'Sm/Em/Im', and 'Day' columns. "
   ]
  },
  {
   "cell_type": "code",
   "execution_count": 3,
   "metadata": {
    "collapsed": true
   },
   "outputs": [],
   "source": [
    "#Save results of the simulation to a DF\n",
    "\n",
    "def results(SEIR, startday):\n",
    "    \"\"\" \"\"\"\n",
    " \n",
    "    resdf = pd.DataFrame(SEIR, columns=['S', 'E', 'I', 'R', 'Sm', 'Em', 'Im'])\n",
    "    #ix = pd.DatetimeIndex(pd.date_range(startday, periods=len(resdf), freq='D'))\n",
    "    #resdf.index = ix\n",
    "    resdf['Day'] = resdf.index\n",
    "    resdf.set_index(['Day'], inplace=True)\n",
    "    \n",
    "    return resdf\n"
   ]
  },
  {
   "cell_type": "markdown",
   "metadata": {},
   "source": [
    "Step 4:\n",
    "\n",
    "        * Create a function that runs the eqs_model with given parameters\n",
    "        * Allow for the ability to run for a specific number of days. \n",
    "        * np.linspace allows the simulation to run in time steps (days).\n",
    "        * Within this function rteurn the results of the simulation into the results function to save as a dataframe.\n",
    "        * spi.odeint correctly runs the differential equations and updates the values simultaneously "
   ]
  },
  {
   "cell_type": "code",
   "execution_count": 4,
   "metadata": {
    "collapsed": false
   },
   "outputs": [],
   "source": [
    "#Function to run the model and build for the score function and model fitting with fmin\n",
    "\n",
    "def run_model(modelParams, zikaParams, numdays, startday):\n",
    "    \n",
    "    ''''''\n",
    "   \n",
    "    t = np.linspace(0, numdays, numdays)\n",
    "    funcInput = (modelParams, zikaParams)\n",
    "    SEIR = spi.odeint(eqs_model, modelParams, t, args=funcInput)\n",
    "   \n",
    "    df = results(SEIR, startday)\n",
    "    \n",
    "    return df"
   ]
  },
  {
   "cell_type": "markdown",
   "metadata": {},
   "source": [
    "\n",
    "\n",
    "Step 5:\n",
    "\n",
    "    * Create a function that stores all DF manipulation/s to make an easily accesible master DF \n",
    "    * Used to be plotted against the fitted model or other data. \n",
    "\n",
    "  Model DF:\n",
    "\n",
    "    * Start by generating the results of the SEIR/SEI model into a DF\n",
    "    * Create and 'Offset Day' column, offday is a changable variable\n",
    "    * Rename and set that 'Offset Day' to 'Day' as the index to match the Miami DF for merging\n",
    "    \n",
    "  Miami DF:\n",
    "     \n",
    "     * Import the Miami DF\n",
    "     * Create a 'Day' column and subtracty from the index so that it starts on day 1\n",
    "     * Make 'Day' column the index\n",
    "     \n",
    "  Master DF:\n",
    " \n",
    "     * Merge (concatinate) the MiamiDF and ModelDF on the 'Day\" indexes\n",
    "     * Interpolate the the 'Total' columns so that there are no NaNs\n",
    "     * Reduce the DF frame to 25 days (peak for teh Miami data)\n",
    "    "
   ]
  },
  {
   "cell_type": "code",
   "execution_count": 5,
   "metadata": {
    "collapsed": false
   },
   "outputs": [],
   "source": [
    "def master_DF(zikaParams, modelParams, numdays, startday, offday):\n",
    "    \n",
    "    result  = run_model(seir, zika, 78, 1)\n",
    "\n",
    "    result['Offset Day'] = pd.Series(result.index - offday)\n",
    "\n",
    "    result = result[result['Offset Day'] >= 1]\n",
    "\n",
    "    result.set_index(['Offset Day'], inplace=True)\n",
    "\n",
    "    result.index.names = ['Day']\n",
    "\n",
    "\n",
    "    miamiData = pd.read_csv('/home/jbrindle/Downloads/Copy of Florida_Daily_Cases - Sheet1.csv')\n",
    "\n",
    "    miamiData['Day'] = pd.Series(miamiData['Time'] - 211 + 1)\n",
    "\n",
    "    miamiData.set_index(['Day'], inplace=True)\n",
    "\n",
    "\n",
    "\n",
    "    frames = [miamiData, result]\n",
    "\n",
    "    masterDF = pd.concat(frames, axis=1)\n",
    "\n",
    "    masterDF['Wynwood Total'].interpolate(inplace=True)\n",
    "\n",
    "    masterDF = masterDF[masterDF.index <= 15]\n",
    "    \n",
    "    return masterDF"
   ]
  },
  {
   "cell_type": "markdown",
   "metadata": {
    "collapsed": false,
    "scrolled": false
   },
   "source": [
    "Step 6:\n",
    "\n",
    "    * Simple score function that runs the df_function to generate a DF\n",
    "    * Compare the Wynwood Total data to the R model data\n",
    "    * Subtract and square to generate score"
   ]
  },
  {
   "cell_type": "code",
   "execution_count": 6,
   "metadata": {
    "collapsed": false
   },
   "outputs": [],
   "source": [
    "#Simple score function for input into scipy fmin model fit function\n",
    "\n",
    "def score(zikaParams, modelParams, numdays, startday, offday):\n",
    "    \"\"\" \"\"\"\n",
    "    \n",
    "    result  = run_model(modelParams, zikaParams, numdays, startday)\n",
    "    \n",
    "    result['Offset Day'] = pd.Series(result.index - offday)\n",
    "\n",
    "    result = result[result['Offset Day'] >= 1]\n",
    "    \n",
    "    result.set_index(['Offset Day'], inplace=True)\n",
    "    \n",
    "    result.index.names = ['Day']\n",
    "    \n",
    "\n",
    "    miamiData = pd.read_csv('/home/jbrindle/Downloads/Copy of Florida_Daily_Cases - Sheet1.csv')\n",
    "    \n",
    "    miamiData['Day'] = pd.Series(miamiData['Time'] - 211 + 1)\n",
    "    \n",
    "    miamiData.set_index(['Day'], inplace=True)\n",
    "    \n",
    "    \n",
    "\n",
    "    frames = [miamiData, result]\n",
    "    \n",
    "    mergedDf = pd.concat(frames, axis=1)\n",
    "    \n",
    "    mergedDf['Wynwood Total'].interpolate(inplace=True)\n",
    "    \n",
    "    mergedDf = mergedDf[mergedDf.index <= 15]\n",
    "\n",
    "    data  = mergedDf['Wynwood Total']\n",
    "\n",
    "    model = mergedDf['R']\n",
    "    \n",
    "    \n",
    "    score = ((data-model)**2).sum()\n",
    "\n",
    "\n",
    "    return score"
   ]
  },
  {
   "cell_type": "markdown",
   "metadata": {},
   "source": [
    "Step 7: \n",
    "\n",
    "    * Create a function that uses fmin to 'fit' the model based on the score function\n",
    "    * Re-run the model withthe optimal Zika Parameters\n",
    "    * Redo the 'Offset' because the model data needs to account for real life scenarios\n",
    "        --There should be a delay between time of I and the detection of Zika (assumed 2 weeks)"
   ]
  },
  {
   "cell_type": "code",
   "execution_count": 72,
   "metadata": {
    "collapsed": false
   },
   "outputs": [],
   "source": [
    "#Function to fir the simulation data to the Miami data\n",
    "\n",
    "def fits(zikaParams, modelParams, numdays, startday, offday):\n",
    "    \n",
    "    funcInput = (modelParams, numdays, startday, offday)\n",
    "    \n",
    "    fits.opt = fmin(score, zikaParams, funcInput)\n",
    "    \n",
    "    fitModel = run_model(modelParams, fits.opt, numdays, startday)\n",
    "    \n",
    "    fitModel['Offset Day'] = pd.Series(fitModel.index - offday)\n",
    "\n",
    "    fitModel = fitModel[fitModel['Offset Day'] >= 1]\n",
    "\n",
    "    fitModel.set_index(['Offset Day'], inplace=True)\n",
    "\n",
    "    fitModel.index.names = ['Day']\n",
    "    \n",
    "    fitModel = fitModel[fitModel.index <= 15]\n",
    "\n",
    "    return fitModel"
   ]
  },
  {
   "cell_type": "code",
   "execution_count": 73,
   "metadata": {
    "collapsed": true
   },
   "outputs": [],
   "source": [
    "seir = [7277, 0.0, 1.0, 0.0, 15000, 0.0, 0.0]\n",
    "zika = [0.06, 0.009, 0.02, 0.02, 0.02]\n"
   ]
  },
  {
   "cell_type": "code",
   "execution_count": 74,
   "metadata": {
    "collapsed": false
   },
   "outputs": [
    {
     "name": "stdout",
     "output_type": "stream",
     "text": [
      "Warning: Maximum number of function evaluations has been exceeded.\n"
     ]
    }
   ],
   "source": [
    "df = master_DF(zika, seir, 78, 1, 9)\n",
    "fitModel = fits(zika, seir, 78, 1, 9)"
   ]
  },
  {
   "cell_type": "code",
   "execution_count": 75,
   "metadata": {
    "collapsed": false,
    "scrolled": true
   },
   "outputs": [
    {
     "data": {
      "text/html": [
       "<div>\n",
       "<table border=\"1\" class=\"dataframe\">\n",
       "  <thead>\n",
       "    <tr style=\"text-align: right;\">\n",
       "      <th></th>\n",
       "      <th>S</th>\n",
       "      <th>E</th>\n",
       "      <th>I</th>\n",
       "      <th>R</th>\n",
       "      <th>Sm</th>\n",
       "      <th>Em</th>\n",
       "      <th>Im</th>\n",
       "    </tr>\n",
       "    <tr>\n",
       "      <th>Day</th>\n",
       "      <th></th>\n",
       "      <th></th>\n",
       "      <th></th>\n",
       "      <th></th>\n",
       "      <th></th>\n",
       "      <th></th>\n",
       "      <th></th>\n",
       "    </tr>\n",
       "  </thead>\n",
       "  <tbody>\n",
       "    <tr>\n",
       "      <th>1</th>\n",
       "      <td>-5.713182e-18</td>\n",
       "      <td>7263.932630</td>\n",
       "      <td>8.424067</td>\n",
       "      <td>5.643304</td>\n",
       "      <td>0.006518</td>\n",
       "      <td>3857.433616</td>\n",
       "      <td>4085.395393</td>\n",
       "    </tr>\n",
       "    <tr>\n",
       "      <th>2</th>\n",
       "      <td>-5.602463e-15</td>\n",
       "      <td>7262.610372</td>\n",
       "      <td>8.826278</td>\n",
       "      <td>6.563350</td>\n",
       "      <td>0.006208</td>\n",
       "      <td>3314.045729</td>\n",
       "      <td>4085.099628</td>\n",
       "    </tr>\n",
       "    <tr>\n",
       "      <th>3</th>\n",
       "      <td>-3.562504e-16</td>\n",
       "      <td>7261.288355</td>\n",
       "      <td>9.187583</td>\n",
       "      <td>7.524062</td>\n",
       "      <td>0.005955</td>\n",
       "      <td>2847.207787</td>\n",
       "      <td>4045.470877</td>\n",
       "    </tr>\n",
       "    <tr>\n",
       "      <th>4</th>\n",
       "      <td>-2.380666e-16</td>\n",
       "      <td>7259.966579</td>\n",
       "      <td>9.512118</td>\n",
       "      <td>8.521303</td>\n",
       "      <td>0.005745</td>\n",
       "      <td>2446.135651</td>\n",
       "      <td>3974.745655</td>\n",
       "    </tr>\n",
       "    <tr>\n",
       "      <th>5</th>\n",
       "      <td>7.617281e-15</td>\n",
       "      <td>7258.645043</td>\n",
       "      <td>9.803602</td>\n",
       "      <td>9.551354</td>\n",
       "      <td>0.005568</td>\n",
       "      <td>2101.564643</td>\n",
       "      <td>3879.815418</td>\n",
       "    </tr>\n",
       "    <tr>\n",
       "      <th>6</th>\n",
       "      <td>-9.954933e-14</td>\n",
       "      <td>7257.323748</td>\n",
       "      <td>10.065378</td>\n",
       "      <td>10.610874</td>\n",
       "      <td>0.005419</td>\n",
       "      <td>1805.535130</td>\n",
       "      <td>3766.429026</td>\n",
       "    </tr>\n",
       "    <tr>\n",
       "      <th>7</th>\n",
       "      <td>-7.206437e-14</td>\n",
       "      <td>7256.002694</td>\n",
       "      <td>10.300450</td>\n",
       "      <td>11.696856</td>\n",
       "      <td>0.005292</td>\n",
       "      <td>1551.208835</td>\n",
       "      <td>3639.365316</td>\n",
       "    </tr>\n",
       "    <tr>\n",
       "      <th>8</th>\n",
       "      <td>2.196609e-14</td>\n",
       "      <td>7254.681880</td>\n",
       "      <td>10.511520</td>\n",
       "      <td>12.806600</td>\n",
       "      <td>0.005183</td>\n",
       "      <td>1332.710793</td>\n",
       "      <td>3502.580788</td>\n",
       "    </tr>\n",
       "    <tr>\n",
       "      <th>9</th>\n",
       "      <td>2.519062e-13</td>\n",
       "      <td>7253.361306</td>\n",
       "      <td>10.701014</td>\n",
       "      <td>13.937680</td>\n",
       "      <td>0.005089</td>\n",
       "      <td>1144.993697</td>\n",
       "      <td>3359.335609</td>\n",
       "    </tr>\n",
       "    <tr>\n",
       "      <th>10</th>\n",
       "      <td>-9.229573e-14</td>\n",
       "      <td>7252.040973</td>\n",
       "      <td>10.871116</td>\n",
       "      <td>15.087911</td>\n",
       "      <td>0.005008</td>\n",
       "      <td>983.721277</td>\n",
       "      <td>3212.301243</td>\n",
       "    </tr>\n",
       "    <tr>\n",
       "      <th>11</th>\n",
       "      <td>-2.359296e-12</td>\n",
       "      <td>7250.720880</td>\n",
       "      <td>11.023786</td>\n",
       "      <td>16.255335</td>\n",
       "      <td>0.004937</td>\n",
       "      <td>845.168133</td>\n",
       "      <td>3063.652246</td>\n",
       "    </tr>\n",
       "    <tr>\n",
       "      <th>12</th>\n",
       "      <td>6.238900e-12</td>\n",
       "      <td>7249.401027</td>\n",
       "      <td>11.160787</td>\n",
       "      <td>17.438186</td>\n",
       "      <td>0.004875</td>\n",
       "      <td>726.133687</td>\n",
       "      <td>2915.144513</td>\n",
       "    </tr>\n",
       "    <tr>\n",
       "      <th>13</th>\n",
       "      <td>1.130556e-11</td>\n",
       "      <td>7248.081415</td>\n",
       "      <td>11.283704</td>\n",
       "      <td>18.634881</td>\n",
       "      <td>0.004821</td>\n",
       "      <td>623.868236</td>\n",
       "      <td>2768.181956</td>\n",
       "    </tr>\n",
       "    <tr>\n",
       "      <th>14</th>\n",
       "      <td>-3.728741e-11</td>\n",
       "      <td>7246.762043</td>\n",
       "      <td>11.393962</td>\n",
       "      <td>19.843995</td>\n",
       "      <td>0.004773</td>\n",
       "      <td>536.009448</td>\n",
       "      <td>2623.873241</td>\n",
       "    </tr>\n",
       "    <tr>\n",
       "      <th>15</th>\n",
       "      <td>-5.936970e-11</td>\n",
       "      <td>7245.442911</td>\n",
       "      <td>11.492841</td>\n",
       "      <td>21.064249</td>\n",
       "      <td>0.004731</td>\n",
       "      <td>460.527780</td>\n",
       "      <td>2483.080061</td>\n",
       "    </tr>\n",
       "  </tbody>\n",
       "</table>\n",
       "</div>"
      ],
      "text/plain": [
       "                S            E          I          R        Sm           Em  \\\n",
       "Day                                                                           \n",
       "1   -5.713182e-18  7263.932630   8.424067   5.643304  0.006518  3857.433616   \n",
       "2   -5.602463e-15  7262.610372   8.826278   6.563350  0.006208  3314.045729   \n",
       "3   -3.562504e-16  7261.288355   9.187583   7.524062  0.005955  2847.207787   \n",
       "4   -2.380666e-16  7259.966579   9.512118   8.521303  0.005745  2446.135651   \n",
       "5    7.617281e-15  7258.645043   9.803602   9.551354  0.005568  2101.564643   \n",
       "6   -9.954933e-14  7257.323748  10.065378  10.610874  0.005419  1805.535130   \n",
       "7   -7.206437e-14  7256.002694  10.300450  11.696856  0.005292  1551.208835   \n",
       "8    2.196609e-14  7254.681880  10.511520  12.806600  0.005183  1332.710793   \n",
       "9    2.519062e-13  7253.361306  10.701014  13.937680  0.005089  1144.993697   \n",
       "10  -9.229573e-14  7252.040973  10.871116  15.087911  0.005008   983.721277   \n",
       "11  -2.359296e-12  7250.720880  11.023786  16.255335  0.004937   845.168133   \n",
       "12   6.238900e-12  7249.401027  11.160787  17.438186  0.004875   726.133687   \n",
       "13   1.130556e-11  7248.081415  11.283704  18.634881  0.004821   623.868236   \n",
       "14  -3.728741e-11  7246.762043  11.393962  19.843995  0.004773   536.009448   \n",
       "15  -5.936970e-11  7245.442911  11.492841  21.064249  0.004731   460.527780   \n",
       "\n",
       "              Im  \n",
       "Day               \n",
       "1    4085.395393  \n",
       "2    4085.099628  \n",
       "3    4045.470877  \n",
       "4    3974.745655  \n",
       "5    3879.815418  \n",
       "6    3766.429026  \n",
       "7    3639.365316  \n",
       "8    3502.580788  \n",
       "9    3359.335609  \n",
       "10   3212.301243  \n",
       "11   3063.652246  \n",
       "12   2915.144513  \n",
       "13   2768.181956  \n",
       "14   2623.873241  \n",
       "15   2483.080061  "
      ]
     },
     "execution_count": 75,
     "metadata": {},
     "output_type": "execute_result"
    }
   ],
   "source": [
    "fitModel"
   ]
  },
  {
   "cell_type": "code",
   "execution_count": 76,
   "metadata": {
    "collapsed": false
   },
   "outputs": [
    {
     "data": {
      "text/plain": [
       "array([  3.05370271e+00,   5.63122067e-01,   1.79713169e-04,\n",
       "         7.98944448e-02,   1.05258418e-01])"
      ]
     },
     "execution_count": 76,
     "metadata": {},
     "output_type": "execute_result"
    }
   ],
   "source": [
    "y = fits.opt\n",
    "y"
   ]
  },
  {
   "cell_type": "code",
   "execution_count": 77,
   "metadata": {
    "collapsed": false
   },
   "outputs": [
    {
     "data": {
      "text/plain": [
       "<matplotlib.axes._subplots.AxesSubplot at 0x7f33afa60fd0>"
      ]
     },
     "execution_count": 77,
     "metadata": {},
     "output_type": "execute_result"
    },
    {
     "data": {
      "image/png": "[encoded data removed]",
      "text/plain": [
       "<matplotlib.figure.Figure at 0x7f33b06ff2d0>"
      ]
     },
     "metadata": {},
     "output_type": "display_data"
    }
   ],
   "source": [
    "sb.set_context(\"talk\")\n",
    "fitModel['R'].plot()\n",
    "df['Wynwood Total'].plot()"
   ]
  },
  {
   "cell_type": "code",
   "execution_count": 79,
   "metadata": {
    "collapsed": false
   },
   "outputs": [
    {
     "name": "stdout",
     "output_type": "stream",
     "text": [
      "Optimization terminated successfully.\n",
      "         Current function value: 77.480773\n",
      "         Iterations: 228\n",
      "         Function evaluations: 392\n"
     ]
    },
    {
     "data": {
      "text/plain": [
       "<matplotlib.axes._subplots.AxesSubplot at 0x7f33af914310>"
      ]
     },
     "execution_count": 79,
     "metadata": {},
     "output_type": "execute_result"
    },
    {
     "data": {
      "image/png": "[encoded data removed]",
      "text/plain": [
       "<matplotlib.figure.Figure at 0x7f33af9150d0>"
      ]
     },
     "metadata": {},
     "output_type": "display_data"
    }
   ],
   "source": [
    "df2 = master_DF(zika, seir, 78, 1, 11)\n",
    "fitModel2 = fits(zika, seir, 78, 1, 11)\n",
    "\n",
    "sb.set_context(\"talk\")\n",
    "fitModel2['R'].plot()\n",
    "df2['Wynwood Total'].plot()"
   ]
  },
  {
   "cell_type": "code",
   "execution_count": null,
   "metadata": {
    "collapsed": true
   },
   "outputs": [],
   "source": [
    "seirFit = [7277, 0.0, 1.0, 0.0, 15000, 0.0, 0.0]\n",
    "zikaFit = [0.1777326 ,  0.02426253,  0.01185499,  0.00944282,  0.00123915]\n",
    "#           BetaH          BetaM        AlphaH      AlphaM       Gamma"
   ]
  },
  {
   "cell_type": "code",
   "execution_count": null,
   "metadata": {
    "collapsed": false
   },
   "outputs": [],
   "source": [
    "# Create a loop of the scores function to determine the best offset\n",
    "\n",
    "\n",
    "def loop_score(zikaParams, modelParams, numdays, startday):\n",
    "    \n",
    "        loopScore = {}\n",
    "        for x in range(1, 25):\n",
    "               loopScore[x] = score(zikaParams, modelParams, 78, 1, x)\n",
    "       \n",
    "        return loopScore"
   ]
  },
  {
   "cell_type": "code",
   "execution_count": null,
   "metadata": {
    "collapsed": false
   },
   "outputs": [],
   "source": [
    "x = loop_score(zikaFit, seirFit, 78, 1)\n",
    "\n",
    "x"
   ]
  },
  {
   "cell_type": "code",
   "execution_count": null,
   "metadata": {
    "collapsed": false,
    "scrolled": false
   },
   "outputs": [],
   "source": [
    "plt.plot(*zip(*sorted(x.items())))\n",
    "plt.show()"
   ]
  },
  {
   "cell_type": "code",
   "execution_count": null,
   "metadata": {
    "collapsed": true
   },
   "outputs": [],
   "source": []
  }
 ],
 "metadata": {
  "kernelspec": {
   "display_name": "Python 2",
   "language": "python",
   "name": "python2"
  },
  "language_info": {
   "codemirror_mode": {
    "name": "ipython",
    "version": 2
   },
   "file_extension": ".py",
   "mimetype": "text/x-python",
   "name": "python",
   "nbconvert_exporter": "python",
   "pygments_lexer": "ipython2",
   "version": "2.7.13"
  }
 },
 "nbformat": 4,
 "nbformat_minor": 2
}
